{
 "cells": [
  {
   "cell_type": "code",
   "execution_count": 1,
   "metadata": {},
   "outputs": [],
   "source": [
    "# Run the below line in terminal to install the required packages\n",
    "# pip install -r ./resources/requirements.txt\n"
   ]
  },
  {
   "cell_type": "code",
   "execution_count": null,
   "metadata": {},
   "outputs": [],
   "source": [
    "import pandas as pd\n",
    "import geopandas as gpd\n",
    "import folium\n",
    "from folium.plugins import MarkerCluster"
   ]
  },
  {
   "cell_type": "code",
   "execution_count": null,
   "metadata": {},
   "outputs": [],
   "source": [
    "# Load the CSV file with low_memory=False to address DtypeWarning\n",
    "csv_path = \"https://raw.githubusercontent.com/kkruel8100/Crime-Analysis/main/resources/Crime.csv\"\n",
    "df = pd.read_csv(csv_path, low_memory=False)"
   ]
  },
  {
   "cell_type": "code",
   "execution_count": null,
   "metadata": {},
   "outputs": [],
   "source": [
    "# Convert Latitude and Longitude to numeric, forcing errors to NaN to ensure we can filter them out\n",
    "df['Latitude'] = pd.to_numeric(df['Latitude'], errors='coerce')\n",
    "df['Longitude'] = pd.to_numeric(df['Longitude'], errors='coerce')"
   ]
  },
  {
   "cell_type": "code",
   "execution_count": null,
   "metadata": {},
   "outputs": [],
   "source": [
    "# Filter out rows with NaN or 0.0 for Latitude or Longitude\n",
    "df = df.dropna(subset=['Latitude', 'Longitude'])\n",
    "df = df[(df['Latitude'] != 0) & (df['Longitude'] != 0)]\n",
    "\n",
    "# Categorize crimes based on 'Crime Name1'\n",
    "df['Crime Against Person'] = df['Crime Name1'].apply(lambda x: 'Yes' if 'Crime Against Person' in str(x) else 'No')"
   ]
  },
  {
   "cell_type": "code",
   "execution_count": null,
   "metadata": {},
   "outputs": [],
   "source": [
    "# Convert the cleaned DataFrame to a GeoDataFrame for spatial plotting\n",
    "gdf_crime = gpd.GeoDataFrame(df, geometry=gpd.points_from_xy(df.Longitude, df.Latitude), crs='EPSG:4326')"
   ]
  },
  {
   "cell_type": "code",
   "execution_count": null,
   "metadata": {},
   "outputs": [],
   "source": [
    "# Specify the latitude and longitude bounds for Maryland\n",
    "md_latitude = 38.80785\n",
    "md_longitude = -76.84997\n",
    "md_zoom_start = 8"
   ]
  },
  {
   "cell_type": "code",
   "execution_count": null,
   "metadata": {},
   "outputs": [],
   "source": [
    "# Create the map centered around Maryland\n",
    "map_md = folium.Map(location=[md_latitude, md_longitude], zoom_start=md_zoom_start)"
   ]
  },
  {
   "cell_type": "code",
   "execution_count": null,
   "metadata": {},
   "outputs": [],
   "source": [
    "# Create marker clusters for Crimes Against Person (red) and Other Crimes (blue)\n",
    "marker_cluster_red = MarkerCluster(name='Crimes Against Person', show=False).add_to(map_md)\n",
    "marker_cluster_blue = MarkerCluster(name='Other Crimes', show=False).add_to(map_md)"
   ]
  },
  {
   "cell_type": "code",
   "execution_count": null,
   "metadata": {},
   "outputs": [],
   "source": [
    "# Add points to the map\n",
    "for idx, row in gdf_crime.iterrows():\n",
    "    if row['Crime Against Person'] == 'Yes':\n",
    "        folium.CircleMarker(location=[row['Latitude'], row['Longitude']],\n",
    "                            radius=5,\n",
    "                            color='red',\n",
    "                            fill=True,\n",
    "                            fill_color='red').add_to(marker_cluster_red)\n",
    "    else:\n",
    "        folium.CircleMarker(location=[row['Latitude'], row['Longitude']],\n",
    "                            radius=5,\n",
    "                            color='blue',\n",
    "                            fill=True,\n",
    "                            fill_color='blue').add_to(marker_cluster_blue)"
   ]
  },
  {
   "cell_type": "code",
   "execution_count": null,
   "metadata": {},
   "outputs": [],
   "source": [
    "# Add LayerControl to allow toggling between layers\n",
    "folium.LayerControl(collapsed=False).add_to(map_md)"
   ]
  },
  {
   "cell_type": "code",
   "execution_count": null,
   "metadata": {},
   "outputs": [],
   "source": [
    "# Display the map in a Jupyter notebook\n",
    "map_md"
   ]
  }
 ],
 "metadata": {
  "kernelspec": {
   "display_name": "dev",
   "language": "python",
   "name": "python3"
  },
  "language_info": {
   "codemirror_mode": {
    "name": "ipython",
    "version": 3
   },
   "file_extension": ".py",
   "mimetype": "text/x-python",
   "name": "python",
   "nbconvert_exporter": "python",
   "pygments_lexer": "ipython3",
   "version": "3.10.13"
  }
 },
 "nbformat": 4,
 "nbformat_minor": 2
}
